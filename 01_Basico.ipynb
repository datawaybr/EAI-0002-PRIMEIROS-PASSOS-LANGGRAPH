{
 "cells": [
  {
   "cell_type": "code",
   "execution_count": null,
   "metadata": {},
   "outputs": [],
   "source": [
    "https://kroki.io/mermaid/svg/eNp1k81u2zAQhO95ij0VCWAjsJ1cfChgK05R1KkBJ0EPhA4UtZKJSqRBSqndpy9_HVFNfDHA-TTYHQ5rRY8H2O6vwPxWZEtF_c0e5TCdfoX1dSYVQiYFw2On4Qs8Iu16hfrGf-Co7PqBVxUqNJSGSskWrE92oFzcXDlw7e1mxJlP11RjCZsTsr7jUuRDZk5-4BnWKLDinU6kBclke5QChRW8MgvOlPyUJeolPPaCWVN9-yTLvkF96waJTpEvyKasLf-iqNDcfTFCGMnOrLHM3gyq9PukkSjJc0c7hCcqaI2tmSuONQ_LUPJLqt9VI__ATrED6k7RwcoRKz4wSgBGHs6CtpzBXprMRD3SS7IrNKo3WvCGd-eRisRlQZWTvLYImVJ_J-AGyFOt8KGOTpmPbnRamssRZQzSaZmvx4ysCru3uxbY4hs2-VCfm-VVz2yvTMN2qqaC_x2kFLDFJxkF-Y68alNV0yydnN_70mhaNAgb0ZkJ8TLgLExIyaWxSwhZwbBsCV28v5Pl-Fo9OQ-bJb7ub5oZQ8VZnoKJpX8kF9CTi5BCYvm9PTac8ZhEZBK3zSkyHroLeSVGz9w4IQyfygVM3GwoDZ4g1voS5X2I-_-V9QRWtY1xAi9SNtE-fpDYu75NwBVsEjr5D2gbWTg"
   ]
  },
  {
   "cell_type": "code",
   "execution_count": 2,
   "metadata": {},
   "outputs": [
    {
     "name": "stdout",
     "output_type": "stream",
     "text": [
      "olá\n"
     ]
    }
   ],
   "source": [
    "from langchain_core.runnables import RunnablePassthrough\n",
    "\n",
    "langchain_chain = RunnablePassthrough() | (lambda x: x['input'].lower())\n",
    "\n",
    "print(langchain_chain.invoke({\"input\": \"Olá\"}))"
   ]
  },
  {
   "cell_type": "code",
   "execution_count": 42,
   "metadata": {},
   "outputs": [
    {
     "name": "stdout",
     "output_type": "stream",
     "text": [
      "{'input': 'Hello', 'result': 'O resultado final é: hello'}\n"
     ]
    }
   ],
   "source": [
    "from langgraph.graph import StateGraph\n",
    "from typing import TypedDict\n",
    "\n",
    "class SimpleState(TypedDict):\n",
    "    input: str\n",
    "    result: str\n",
    "\n",
    "workflow = StateGraph(SimpleState)\n",
    "\n",
    "# Define nodes\n",
    "def lowercase(state):\n",
    "    return {\"result\": state['input'].lower()}\n",
    "\n",
    "def formating(state):\n",
    "    return {\"result\": f\"The final result is: {state['result']}\"}\n",
    "\n",
    "# Add nodes to graph\n",
    "workflow.add_node(\"preprocessor\", lowercase)\n",
    "workflow.add_node(\"finalizer\", formating)\n",
    "\n",
    "# Connect nodes in sequence\n",
    "workflow.add_edge(\"preprocessor\", \"finalizer\")\n",
    "\n",
    "# Set entry/exit points\n",
    "workflow.set_entry_point(\"preprocessor\")\n",
    "\n",
    "app = workflow.compile()\n",
    "\n",
    "result = app.invoke({\"input\": \"Hello\"})\n",
    "print(result)"
   ]
  },
  {
   "cell_type": "code",
   "execution_count": 32,
   "metadata": {},
   "outputs": [],
   "source": [
    "from langgraph.graph import StateGraph\n",
    "from langchain_core.prompts import PromptTemplate\n",
    "from langchain_community.document_loaders import WebBaseLoader\n",
    "from langchain_openai import ChatOpenAI\n",
    "from dotenv import load_dotenv\n",
    "\n",
    "load_dotenv()\n",
    "\n",
    "class workflow_state(dict):\n",
    "    input: str\n",
    "    document: str\n",
    "    summary: str\n",
    "    output: str\n",
    "\n",
    "llm = ChatOpenAI(model=\"gpt-4o\")\n",
    "\n",
    "# Create graph\n",
    "workflow = StateGraph(workflow_state)\n",
    "\n",
    "# Define nodes\n",
    "def load_document(state):\n",
    "    document = WebBaseLoader(state[\"input\"]).load()\n",
    "    return {\"document\": document}\n",
    "\n",
    "def prompt_chain(prompt,input):\n",
    "    chain = (PromptTemplate.from_template(prompt) | llm | (lambda x: x.content))\n",
    "    return chain.invoke(input)\n",
    "\n",
    "def summarize_text(state):\n",
    "    doc = state['document']\n",
    "    summary = prompt_chain(\"Please summarize this: {doc}\",doc[0].page_content)\n",
    "    return {\"summary\": summary}\n",
    "\n",
    "def generate_questions(state):\n",
    "    summary = state['summary']\n",
    "    questions = prompt_chain(\"Please generate 3 questions about this summary: {summary}\" ,summary)\n",
    "    return {\"output\": questions}\n",
    "\n",
    "# Add nodes to graph\n",
    "workflow.add_node(\"loader\", load_document)\n",
    "workflow.add_node(\"summarizer\", summarize_text)\n",
    "workflow.add_node(\"question_gen\", generate_questions)\n",
    "\n",
    "# Create linear flow\n",
    "workflow.add_edge(\"loader\", \"summarizer\")\n",
    "workflow.add_edge(\"summarizer\", \"question_gen\")\n",
    "\n",
    "# Set entry/exit points\n",
    "workflow.set_entry_point(\"loader\")\n",
    "\n",
    "# Compile and run\n",
    "basic_flow = workflow.compile()\n"
   ]
  },
  {
   "cell_type": "code",
   "execution_count": 36,
   "metadata": {},
   "outputs": [
    {
     "data": {
      "image/png": "[encoded data removed]",
      "text/plain": [
       "<IPython.core.display.Image object>"
      ]
     },
     "metadata": {},
     "output_type": "display_data"
    }
   ],
   "source": [
    "from IPython.display import Image, display\n",
    "from langchain_core.runnables.graph import CurveStyle, MermaidDrawMethod, NodeStyles\n",
    "\n",
    "display(\n",
    "    Image(\n",
    "        basic_flow.get_graph().draw_mermaid_png(\n",
    "            draw_method=MermaidDrawMethod.API,\n",
    "        )\n",
    "    )\n",
    ")"
   ]
  },
  {
   "cell_type": "code",
   "execution_count": 39,
   "metadata": {},
   "outputs": [
    {
     "name": "stdout",
     "output_type": "stream",
     "text": [
      "https://www.langchain.com/langgraph\n",
      "[Document(metadata={'source': 'https://www.langchain.com/langgraph', 'title': 'LangGraph', 'description': 'Build controllable agents with LangGraph, our low-level agent orchestration framework. Deploy and scale with LangGraph Platform, with APIs for state management, a visual studio for debugging, and multiple deployment options.', 'language': 'en'}, page_content='LangGraph\\n\\n\\n\\n\\n\\n\\n\\n\\n\\n\\n\\n\\n\\n\\n\\n\\n\\n\\n\\n\\n\\nProducts\\n\\nLangChainLangSmithLangGraphMethods\\n\\nRetrievalAgentsEvaluationResources\\n\\nBlogCustomer StoriesLangChain AcademyCommunityExpertsChangelogLLM Evaluations GuideState of AI AgentsBreakout Agent StoriesDocs\\n\\nPythonLangChainLangSmithLangGraphJavaScriptLangChainLangSmithLangGraphCompany\\n\\nAboutCareersPricing\\n\\nLangSmithLangGraph PlatformGet a demoSign upBalance agent control with agencyGain control with LangGraph to design agents that reliably handle complex tasks. Build and scale agentic applications with LangGraph Platform.Get started with PythonGet a LangGraph Platform demo\\n\\nIntroduction to LangGraphLearn the basics of LangGraph in this LangChain Academy Course. You\\'ll learn how to build agents that automate real-world tasks with LangGraph orchestration.Enroll for freeBook enterprise trainingTrusted in production byControllable cognitive architecture for any taskLangGraph\\'s flexible framework supports diverse control flows – single agent, multi-agent, hierarchical, sequential – and robustly handles realistic, complex scenarios. Ensure reliability with easy-to-add moderation and quality loops that prevent agents from veering off course.Use LangGraph Platform to templatize your cognitive architecture so that tools, prompts, and models are easily configurable with LangGraph Platform Assistants.See the docs\\n\\n\\nThousands of companies build AI apps better with LangChain products.Read our select customer stories.Designed for human-agent collaborationWith built-in statefulness, LangGraph agents seamlessly collaborate with humans by writing drafts for review and awaiting approval before acting. Easily inspect the agent’s actions and \"time-travel\" to roll back and take a different action to correct course.Read a conceptual guide\\n\\n\\nFirst class streaming support for better UX designBridge user expectations and agent capabilities with native token-by-token streaming and streaming of intermediate steps, helpful for showing agent reasoning and actions back to the user as they happen. Use LangGraph Platform\\'s API to deliver dynamic and interactive user experiences.Learn more\\n\\n\\nWhy choose LangGraph?\\n\\n\\n\\nControl, moderate, and guide your agent’s actions.Prevent agents from veering off course and ensure reliability with easy-to-add moderation and quality loops. Add human-in-the-loop to steer and approve agent actions.\\n\\n\\n\\nExpressive and customizable agent workflows.LangGraph’s low level abstractions provide the flexibility to create sophisticated agents. Design diverse control flows – single, multi-agent, hierarchical, sequential – all with one framework.\\n\\n\\n\\nPersisted context for long-term interactions.With its stateful design, LangGraph stores conversation histories and session data to maintain context over time and ensure smooth handoffs in agentic systems.\\n\\n\\n\\nFirst-class streaming support for better UX design.Bridge user expectations and agent capabilities with native token-by-token streaming, showing agent reasoning and actions in real time.LangGraph Platform: Design and deploy your agents at scaleCraft agent-appropriate UXs using LangGraph Platform\\'s APIs. Quickly deploy and scale your agent with purpose-built infrastructure. Choose from multiple deployment options.Dynamic APIs for designing agent UXs.Craft personalized experiences with the long-term memory API to recall information across conversation sessions. Expose, update, and rewind your app\\'s state for better user visibility, steering, and interaction. Kick off long-running background jobs for research-style or multi-step work.\\n\\n\\nSee the LangGraph Platform docsFault-tolerant scalability.Handle large workloads gracefully with horizontally-scaling servers, task queues, and built-in persistence. Enhance resilience with intelligent caching and automated retries.Learn more in the blog\\n\\n\\nAn end-to-end developer experience.Simplify prototyping, debugging, and sharing of agents in our visual LangGraph Studio. Deploy your application with 1-click deploy with our SaaS offering or within your own VPC. Then, monitor app performance with LangSmith.Discover LangGraph Studio\\n\\n\\nIntroduction to LangGraphLearn the basics of LangGraph in this LangChain Academy Course. You\\'ll learn how to build agents that automate real-world tasks with LangGraph orchestration.Enroll for freeBook enterprise trainingDeploy agents at scale, monitor carefully, iterate boldlyDesign agent-driven user experiences with LangGraph Platform\\'s APIs. Quickly deploy and scale your application with infrastructure built for agents. Choose from multiple deployment options. \\n\\n\\n\\nFault-tolerant scalabilityHandle large workloads gracefully with horizontally-scaling servers, task queues, and built-in persistence. Enhance resilience with intelligent caching and automated retries.\\n\\n\\n\\nDynamic APIs for designing agent experienceCraft personalized user experiences with APIs featuring long-term memory to recall information across conversation sessions. Track, update, and rewind your app\\'s state for easy human steering and interaction. Kick off long-running background jobs for research-style or multi-step work.\\n\\n\\n\\nIntegrated developer experienceSimplify prototyping, debugging, and sharing of agents in our visual LangGraph Studio. Deploy your application with 1-click deploy with our SaaS offering or within your own VPC. Then, monitor app performance with LangSmith.Built with LangGraph, trusted by the best.LangGraph helps teams of all sizes, across all industries, build reliable AI\\xa0agents deployed in production. Hear customers tell their tales.“LangChain is streets ahead with what they\\'ve put forward with LangGraph. LangGraph sets the foundation for how we can build and scale AI workloads — from conversational agents, complex task automation, to custom LLM-backed experiences that \\'just work\\'. The next chapter in building complex production-ready features with LLMs is agentic, and with LangGraph and LangSmith, LangChain delivers an out-of-the-box solution to iterate quickly, debug immediately, and scale effortlessly.”Garrett SpongPrincipal SWE “LangGraph has been instrumental for our AI development. Its robust framework for building stateful, multi-actor applications with LLMs has transformed how we evaluate and optimize the performance of our AI guest-facing solutions. LangGraph enables granular control over the agent\\'s thought process, which has empowered us to make data-driven and deliberate decisions to meet the diverse needs of our guests.”Andres TorresSr. Solutions Architect“It\\'s easy to build the prototype of a coding agent, but deceptively hard to improve its reliability. Replit wants to give a coding agent to millions of users — reliability is our top priority, and will remain so for a long time. LangGraph is giving us the control and ergonomics we need to build and ship powerful coding agents.”“As Ally advances its exploration of Generative AI, Michele CatastaPresident“As Ally advances its exploration of Generative AI, our tech labs is excited by LangGraph, the new library from LangChain, which is central to our experiments with multi-actor agentic workflows. We are committed to deepening our partnership with LangChain.”“As Ally advances its exploration of Generative AI, Sathish MuthukrishnanChief Information, Data and Digital Officer“LangChain is streets ahead with what they\\'ve put forward with LangGraph. LangGraph sets the foundation for how we can build and scale AI workloads — from conversational agents, complex task automation, to custom LLM-backed experiences that \\'just work\\'. The next chapter in building complex production-ready features with LLMs is agentic, and with LangGraph and LangSmith, LangChain delivers an out-of-the-box solution to iterate quickly, debug immediately, and scale effortlessly.”Garrett SpongPrincipal SWE “LangGraph has been instrumental for our AI development. Its robust framework for building stateful, multi-actor applications with LLMs has transformed how we evaluate and optimize the performance of our AI guest-facing solutions. LangGraph enables granular control over the agent\\'s thought process, which has empowered us to make data-driven and deliberate decisions to meet the diverse needs of our guests.”Andres TorresSr. Solutions Architect“It\\'s easy to build the prototype of a coding agent, but deceptively hard to improve its reliability. Replit wants to give a coding agent to millions of users — reliability is our top priority, and will remain so for a long time. LangGraph is giving us the control and ergonomics we need to build and ship powerful coding agents.”“As Ally advances its exploration of Generative AI, Michele CatastaPresident“As Ally advances its exploration of Generative AI, our tech labs is excited by LangGraph, the new library from LangChain, which is central to our experiments with multi-actor agentic workflows. We are committed to deepening our partnership with LangChain.”“As Ally advances its exploration of Generative AI, Sathish MuthukrishnanChief Information, Data and Digital Officer\\n\\n\\n\\n\\n\\n\\n\\n\\nLangGraph FAQsDo I need to use LangChain to use LangGraph? What’s the difference?\\n\\nNo. LangGraph is an orchestration framework for complex agentic systems and is more low-level and controllable than LangChain agents.\\xa0LangChain provides a standard interface to interact with models and other components, useful for straight-forward chains and retrieval flows. How is LangGraph different from other agent frameworks?\\n\\nOther agentic frameworks can work for simple, generic tasks but fall short for complex tasks bespoke to a company’s needs. LangGraph provides a more expressive framework to handle companies’ unique tasks without restricting users to a single black-box cognitive architecture.Does LangGraph impact the performance of my app?\\n\\nLangGraph will not add any overhead to your code and is specifically designed with streaming workflows in mind.Is LangGraph open source? Is it free?\\n\\nYes. LangGraph is an MIT-licensed open-source library and is free to use.How are LangGraph and LangGraph Platform different?\\n\\nLangGraph is a stateful, orchestration framework that brings added control to agent workflows. LangGraph Platform is a service for deploying and scaling LangGraph applications, with an opinionated API for building agent UXs, plus an integrated developer studio.LangGraph (open source)LangGraph PlatformFeaturesDescriptionPrices for traces vary depending on the data retention period you\\'ve set. \\n\\n\\n\\nStateful orchestration framework for agentic applicationsScalable infrastructure for deploying LangGraph applicationsSDKsPrices for traces vary depending on the data retention period you\\'ve set. \\n\\n\\n\\nPython and JavaScriptPython and JavaScriptPrices for traces vary depending on the data retention period you\\'ve set. \\n\\n\\n\\nHTTP\\xa0APIsNoneYes - useful for retrieving & updating state or long-term memory, or creating a configurable assistantStreamingPrices for traces vary depending on the data retention period you\\'ve set. \\n\\n\\n\\nBasicDedicated mode for token-by-token messagesCheckpointerPrices for traces vary depending on the data retention period you\\'ve set. \\n\\n\\n\\nCommunity contributedSupported out-of-the-boxPersistence LayerPrices for traces vary depending on the data retention period you\\'ve set. \\n\\n\\n\\nSelf-managedManaged Postgres with efficient storageDeploymentPrices for traces vary depending on the data retention period you\\'ve set. \\n\\n\\n\\nSelf-managed- Cloud SaaS- Free self-hosted- \\xa0Enterprise (BYOC\\xa0or paid self-hosted)ScalabilityPrices for traces vary depending on the data retention period you\\'ve set. \\n\\n\\n\\nSelf-managedAuto-scaling of task queues and serversFault-tolerancePrices for traces vary depending on the data retention period you\\'ve set. \\n\\n\\n\\nSelf-managedAutomated retriesConcurrency ControlPrices for traces vary depending on the data retention period you\\'ve set. \\n\\n\\n\\nSimple threadingSupports double-textingSchedulingPrices for traces vary depending on the data retention period you\\'ve set. \\n\\n\\n\\nNoneCron schedulingMonitoringPrices for traces vary depending on the data retention period you\\'ve set. \\n\\n\\n\\nNoneIntegrated with LangSmith for observabilityIDE integrationPrices for traces vary depending on the data retention period you\\'ve set. \\n\\n\\n\\nLangGraph Studio for DesktopLangGraph Studio for Desktop & CloudWhat are my deployment options for LangGraph Platform?\\n\\nWe currently have the following deployment options for LangGraph applications:\\u200dSelf-Hosted\\xa0Lite: A free (up to 1M nodes executed), limited version of LangGraph Platform that you can run locally or in a self-hosted manner. This version requires a LangSmith API key and logs all usage to LangSmith. Fewer features are available than in paid plans.\\u200dCloud SaaS: Fully managed and hosted as part of LangSmith, with automatic updates and zero maintenance.\\u200dBring Your Own Cloud (BYOC): Deploy LangGraph Platform within your VPC, provisioned and run as a service. Keep data in your environment while outsourcing the management of the service.Self-Hosted\\xa0Enterprise: Deploy LangGraph entirely on your own infrastructure.Is LangGraph Platform open source?\\n\\nNo. LangGraph Platform is proprietary software.There is a free, self-hosted version of LangGraph Platform with access to basic features. The Cloud SaaS deployment option is free while in beta, but will eventually be a paid service. We will always give ample notice before charging for a service and reward our early adopters with preferential pricing. The Bring Your Own Cloud (BYOC) and Self-Hosted\\xa0Enterprise options are also paid services. Contact our sales team to learn more.For more information, see our LangGraph Platform pricing page.Ready to start shipping \\u2028reliable GenAI apps faster?Get started with LangChain, LangSmith, and LangGraph to enhance your LLM\\xa0app development, from prototype to production.Contact UsSign UpProductsLangChainLangSmithLangGraphAgentsEvaluationRetrievalResourcesPython DocsJS/TS DocsGitHubIntegrationsChangelogCommunityLangSmith Trust PortalCompanyAboutCareersBlogTwitterLinkedInYouTubeMarketing AssetsSign up for our newsletter to stay up to dateThank you! Your submission has been received!Oops! Something went wrong while submitting the form.All systems operationalPrivacy PolicyTerms of Service\\n\\n\\n\\n\\n\\n\\n')]\n",
      "LangGraph is a platform developed by LangChain to help design and deploy AI agents capable of handling complex, real-world tasks. It offers a flexible orchestration framework that supports various control flows, such as single or multi-agent systems, and ensures reliability through moderation and quality control loops. LangGraph is designed for human-agent collaboration, featuring a stateful architecture that preserves context and allows rollback of actions. The platform also supports first-class streaming to enhance user experience and enable real-time interaction. LangGraph is open-source and free, while the LangGraph Platform provides scalable deployment options, API integrations, and a visual development studio known as LangGraph Studio. The Platform is proprietary with some free features while in beta, offering self-managed, cloud, and enterprise deployment options. LangGraph is trusted by various industries for building stateful AI applications and is designed to integrate seamlessly with other LangChain products like LangSmith.\n",
      "1. What features does LangGraph offer to support human-agent collaboration and enhance user experience on its platform?\n",
      "\n",
      "2. How does LangGraph ensure reliability and quality control when handling complex, real-world tasks?\n",
      "\n",
      "3. What deployment options are available for LangGraph Platform, and how does it integrate with other LangChain products?\n"
     ]
    }
   ],
   "source": [
    "result = basic_flow.invoke({\"input\": \"https://www.langchain.com/langgraph\"})\n",
    "\n",
    "print(result[\"input\"])\n",
    "print(result[\"document\"])\n",
    "print(result[\"summary\"])\n",
    "print(result[\"output\"])"
   ]
  }
 ],
 "metadata": {
  "kernelspec": {
   "display_name": "cursolanggraph-Ei5fG2sP-py3.10",
   "language": "python",
   "name": "python3"
  },
  "language_info": {
   "codemirror_mode": {
    "name": "ipython",
    "version": 3
   },
   "file_extension": ".py",
   "mimetype": "text/x-python",
   "name": "python",
   "nbconvert_exporter": "python",
   "pygments_lexer": "ipython3",
   "version": "3.10.12"
  }
 },
 "nbformat": 4,
 "nbformat_minor": 2
}
