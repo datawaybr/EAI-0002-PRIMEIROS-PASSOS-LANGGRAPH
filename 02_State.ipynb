{
 "cells": [
  {
   "cell_type": "code",
   "execution_count": null,
   "metadata": {},
   "outputs": [],
   "source": [
    "https://kroki.io/mermaid/svg/eNp9U8Fu2zAMvfcreBrcQ39hQJp2Q7FkDZqhOwhBoMiMo02WDIlukn39KMk2Wi2ZDxJFvWc-UmTjZXeAxcsN8Oedo2ohbfM1edckCW-nG7i7-wzKeazmvMDcWYUdFfe1JFk98BLvCW1530qru95I0s5Wy3eHAieVwhCqWdrgE6yV60otO7S41xSq-8G4vUmAqDGL5fheGjHPO0y6pLboNwU46j2RyLk_nlD1UVfO40QFukMfdIgJitVkwkx5x3LXhF3YZDGxIInx-018w_PdqzQ9wkpqHzYfAd2ZDs6KmT3DKpnwvPuFigpYywWRDQaxHAyILzY_cE4F8k16LXeGoa-jVSBqp_qWhQfxMFpX_0bOma3rqesZ_oMP8JwPBU71gVwr5mnLJV-T7xX1HseivO-CRPIoa_HCC3x3Nac0vHvqwM1lytFrQvEzrgNp6Wq9P_-XpK0mLY3-g-JpNPPtcBzZiZ6bMBFtjCCyLM2V5HLAzJghsraQ2mZT0tooSWMtloMBu3Pm_APtZAgMfGo7o5Umw12QPHCPdES0V2hNjLsNcTxqkaakjtqKLh4SGicmMcOBu8I2Ij9RPlwK9oHEFeWei50iUqVgOTkuoIeZ2sZpEcMgwTQvCi9SuAB42hrXaCUebWxbnsHkhEV0whfjjleCeTdNO79xnYaXfeD2_MB751uZq_EXsGal7w"
   ]
  },
  {
   "cell_type": "code",
   "execution_count": 1,
   "metadata": {},
   "outputs": [],
   "source": [
    "import time\n",
    "from typing import TypedDict, List\n",
    "from langgraph.graph import StateGraph, END\n",
    "from langchain_core.prompts import ChatPromptTemplate, MessagesPlaceholder\n",
    "from langchain_core.output_parsers import StrOutputParser\n",
    "from langchain_openai import ChatOpenAI\n",
    "\n",
    "class ChatState(TypedDict):\n",
    "    \"\"\"State schema for our chatbot\"\"\"\n",
    "    user_input: str\n",
    "    history: List[str]\n",
    "\n",
    "graph = StateGraph(ChatState)\n",
    "\n",
    "prompt = ChatPromptTemplate.from_template(\n",
    "   \"You are a helpful assistant. Respond to the user based on the conversation.\"\n",
    "    \"Here is the conversation so far: {history}. User message: {user_input}\",\n",
    ")\n",
    "\n",
    "model = ChatOpenAI(temperature=0.5)\n",
    "output_parser = StrOutputParser()\n",
    "\n",
    "chain = prompt | model | output_parser\n",
    "\n",
    "def add_user_message(state: ChatState):\n",
    "    print(f\"\"\"📥 Adding user message: {state[\"user_input\"]}\"\"\")\n",
    "    new_history = state['history'] + [f\"\"\"User: {state[\"user_input\"]}\"\"\"]\n",
    "    return {\"history\": new_history}\n",
    "\n",
    "def generate_bot_response(state: ChatState):\n",
    "    last_message = state['history'][-1]\n",
    "    user_input = last_message.replace(\"User: \", \"\")\n",
    "    \n",
    "    response = chain.invoke({\"user_input\": user_input, \"history\": state['history']})\n",
    "    new_history = state['history'] + [f\"Bot: {response}\"]\n",
    "    return {\"history\": new_history}\n",
    "\n",
    "\n",
    "graph.add_node(\"add_user\", add_user_message)\n",
    "graph.add_node(\"generate_bot\", generate_bot_response)\n",
    "\n",
    "graph.set_entry_point(\"add_user\")\n",
    "graph.add_edge(\"add_user\", \"generate_bot\")\n",
    "graph.add_edge(\"generate_bot\", END)\n",
    "\n",
    "app = graph.compile()\n",
    "\n",
    "state = ChatState(history=[])\n"
   ]
  },
  {
   "cell_type": "code",
   "execution_count": 2,
   "metadata": {},
   "outputs": [
    {
     "data": {
      "image/png": "[encoded data removed]",
      "text/plain": [
       "<IPython.core.display.Image object>"
      ]
     },
     "metadata": {},
     "output_type": "display_data"
    }
   ],
   "source": [
    "from IPython.display import Image, display\n",
    "from langchain_core.runnables.graph import CurveStyle, MermaidDrawMethod, NodeStyles\n",
    "\n",
    "display(\n",
    "    Image(\n",
    "        app.get_graph().draw_mermaid_png(\n",
    "            draw_method=MermaidDrawMethod.API,\n",
    "        )\n",
    "    )\n",
    ")"
   ]
  },
  {
   "cell_type": "code",
   "execution_count": 3,
   "metadata": {},
   "outputs": [
    {
     "name": "stdout",
     "output_type": "stream",
     "text": [
      "💬 Start chatting (type 'exit' to quit)\n",
      "📥 Adding user message: Boa noite LLM\n",
      "\n",
      "Bot: Boa noite! Como posso ajudar você hoje?\n",
      "📥 Adding user message: QUal a sua cor favorita\n",
      "\n",
      "Bot: Desculpe, como assistente de IA, não tenho uma cor favorita. Posso te ajudar com mais alguma coisa?\n",
      "📥 Adding user message: Me diga quais são as 3 cores mais legais\n",
      "\n",
      "Bot: Desculpe, como assistente de IA, não tenho preferências pessoais. Posso te ajudar com informações sobre cores populares ou tendências atuais, se desejar. Como posso te ajudar mais?\n",
      "📥 Adding user message: Por que o sol é quente\n",
      "\n",
      "Bot: O sol é quente devido à sua composição de gases e à reação nuclear que ocorre em seu núcleo, que gera uma quantidade imensa de calor e luz. Esse calor e luz são emitidos para o espaço, aquecendo os planetas próximos, incluindo a Terra. Posso te ajudar com mais alguma dúvida?\n"
     ]
    }
   ],
   "source": [
    "print(\"💬 Start chatting (type 'exit' to quit)\")\n",
    "while True:\n",
    "    user_input = input(\"\\nYou: \")\n",
    "    if user_input.lower() == 'exit':\n",
    "        break\n",
    "    state[\"user_input\"] = user_input\n",
    "    state = app.invoke(state)\n",
    "    \n",
    "    print(f\"\\n{state['history'][-1]}\")\n",
    "    time.sleep(.5)"
   ]
  },
  {
   "cell_type": "code",
   "execution_count": 4,
   "metadata": {},
   "outputs": [
    {
     "name": "stdout",
     "output_type": "stream",
     "text": [
      "{'user_input': 'Entendi, valeu!', 'history': ['User: Olá', 'Bot: Olá! Como posso ajudar você hoje?', 'User: Me conte uma piada', 'Bot: Por que o livro de matemática ficou de castigo?\\n\\nPorque ele estava cheio de problemas! 😄', 'User: Pode me explicar a piada?', 'Bot: Claro! A piada faz um trocadilho com a palavra \"problemas\", que pode significar tanto questões matemáticas quanto situações complicadas. Nesse caso, o livro de matemática ficou de castigo porque estava cheio de problemas, ou seja, cheio de questões matemáticas para resolver. Espero que tenha entendido e que tenha te arrancado um sorriso! 😄', 'User: Entendi, valeu!', 'Bot: Fico feliz em saber que você entendeu a piada! Se precisar de mais alguma coisa, estou aqui para ajudar. 😄']}\n"
     ]
    }
   ],
   "source": [
    "print(state)"
   ]
  },
  {
   "cell_type": "code",
   "execution_count": null,
   "metadata": {},
   "outputs": [
    {
     "name": "stdout",
     "output_type": "stream",
     "text": [
      "\n",
      "📜 Conversation History:\n",
      "- User: Olá\n",
      "- Bot: Olá! Como posso ajudar você hoje?\n",
      "- User: Me conte uma piada\n",
      "- Bot: Por que o livro de matemática ficou de castigo?\n",
      "\n",
      "Porque ele estava cheio de problemas! 😄\n",
      "- User: Pode me explicar a piada?\n",
      "- Bot: Claro! A piada faz um trocadilho com a palavra \"problemas\", que pode significar tanto questões matemáticas quanto situações complicadas. Nesse caso, o livro de matemática ficou de castigo porque estava cheio de problemas, ou seja, cheio de questões matemáticas para resolver. Espero que tenha entendido e que tenha te arrancado um sorriso! 😄\n",
      "- User: Entendi, valeu!\n",
      "- Bot: Fico feliz em saber que você entendeu a piada! Se precisar de mais alguma coisa, estou aqui para ajudar. 😄\n"
     ]
    }
   ],
   "source": [
    "print(\"\\n📜 Conversation History:\")\n",
    "for message in state['history']:\n",
    "    print(f\"- {message}\")"
   ]
  }
 ],
 "metadata": {
  "kernelspec": {
   "display_name": "cursolanggraph-Ei5fG2sP-py3.10",
   "language": "python",
   "name": "python3"
  },
  "language_info": {
   "codemirror_mode": {
    "name": "ipython",
    "version": 3
   },
   "file_extension": ".py",
   "mimetype": "text/x-python",
   "name": "python",
   "nbconvert_exporter": "python",
   "pygments_lexer": "ipython3",
   "version": "3.10.12"
  }
 },
 "nbformat": 4,
 "nbformat_minor": 2
}
