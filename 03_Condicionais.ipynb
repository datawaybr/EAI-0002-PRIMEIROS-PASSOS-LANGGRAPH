{
 "cells": [
  {
   "cell_type": "code",
   "execution_count": null,
   "metadata": {},
   "outputs": [],
   "source": [
    "https://kroki.io/mermaid/svg/eNp1UstqwzAQvOcr9lScQ-gfFJpXW0ggJGkvxgjFXtsCWRKSTMnfdyXbjRMTH-R9zKxmV1tZbmrYHWdAn9XaJyutCuGFVlw6EAp2XFUfATX_x8Bi8Qb-atAl53CCLmFMe0CKxkhsUHke8snXnfuANa012mFy6P7wAt90rrjDx6q5Vjka75IjSu6xCApiYD6LwKgvIstW5YzgRbolK1zqgLubYpc9EBxJQ3bRWqZLOpArOIUQ_HAr-EUiMSLlvrNB1jAHhkWF6WgwG_KzZ8SGGyNUlR64r2HfOe4p2qJvreo03ro6xiiEEr3Cfp6Rc7Fc5XW4YzlYsNOVyLMJtLgq3oiclVL_puvOgbgFsKXQlIDWastqrgoZLhg1DZuQgs8-9UoarUA3LeGpF-ZQYmzmrsSZUnAaUlOqoYZZfLV0LcoSLc0qTsHBklanAN2_4JTatNILxitipPtgL96DDaccFb22po0Y7zZ02Vg7-wM12Bvg"
   ]
  },
  {
   "cell_type": "code",
   "execution_count": 24,
   "metadata": {},
   "outputs": [],
   "source": [
    "from langgraph.graph import StateGraph, END\n",
    "from langchain_core.messages import  HumanMessage\n",
    "from typing import  List, TypedDict\n",
    "\n",
    "\n",
    "class SupportState(TypedDict):\n",
    "    messages: List\n",
    "    category: str\n",
    "\n",
    "\n",
    "def categorize_query(state: SupportState):\n",
    "    messages = state['messages']\n",
    "    last_message_content = messages[-1]\n",
    "\n",
    "    if \"billing\" in last_message_content or \"payment\" in last_message_content or \"invoice\" in last_message_content:\n",
    "        return {\"messages\": state['messages'], \"category\": \"billing\"}\n",
    "    elif \"technical\" in last_message_content or \"error\" in last_message_content or \"bug\" in last_message_content or \"software\" in last_message_content:\n",
    "        return {\"messages\": state['messages'], \"category\": \"technical\"}\n",
    "    else:\n",
    "        return {\"messages\": state['messages'], \"category\": \"general\"}\n",
    "\n",
    "def general_support(state: SupportState):\n",
    "    print(\"Entering general_support node\")\n",
    "    messages = state['messages']\n",
    "    last_message_content = messages[-1]\n",
    "    response_content = f\"Thank you for contacting general support. We have received your query: '{last_message_content}'. We will get back to you soon.\"\n",
    "    print(response_content)\n",
    "    return {\"messages\": state['messages'] + [response_content], \"category\": \"general\"}\n",
    "\n",
    "def billing_support(state: SupportState):\n",
    "    \"\"\"\n",
    "    This node handles billing support queries.\n",
    "    \"\"\"\n",
    "    print(\"Entering billing_support node\")\n",
    "    messages = state['messages']\n",
    "    last_message_content = messages[-1]\n",
    "    response_content = f\"Thank you for contacting billing support.  Regarding your billing inquiry: '{last_message_content}'. Please provide your account number for faster assistance.\"\n",
    "    print(response_content)\n",
    "    return {\"messages\": state['messages'] + [response_content], \"category\": \"billing\"}\n",
    "\n",
    "def technical_support(state: SupportState):\n",
    "    print(\"Entering technical_support node\")\n",
    "    messages = state['messages']\n",
    "    last_message_content = messages[-1]\n",
    "    response_content = f\"Thank you for contacting technical support.  We understand you are having a technical issue: '{last_message_content}'. Can you please describe the steps to reproduce the issue?\"\n",
    "    print(response_content)\n",
    "    return {\"messages\": state['messages'] + [response_content], \"category\": \"technical\"}\n",
    "\n",
    "def route_based_on_category(state):\n",
    "    category = state['category']\n",
    "    print(f\"Routing based on category: {category}\")\n",
    "    if category == \"billing\":\n",
    "        return \"billing_specialist\"\n",
    "    elif category == \"technical\":\n",
    "        return \"technical_specialist\"\n",
    "    else:\n",
    "        return \"general_specialist\"\n",
    "\n",
    "\n",
    "workflow = StateGraph(SupportState)\n",
    "\n",
    "workflow.add_node(\"categorize_query\", categorize_query)\n",
    "workflow.add_node(\"general_specialist\", general_support)\n",
    "workflow.add_node(\"billing_specialist\", billing_support)\n",
    "workflow.add_node(\"technical_specialist\", technical_support)\n",
    "\n",
    "workflow.add_conditional_edges(\n",
    "    \"categorize_query\",\n",
    "    route_based_on_category,\n",
    "    {\n",
    "        \"general_specialist\": \"general_specialist\",\n",
    "        \"billing_specialist\": \"billing_specialist\",\n",
    "        \"technical_specialist\": \"technical_specialist\",\n",
    "    },\n",
    ")\n",
    "workflow.add_edge(\"general_specialist\", END)\n",
    "workflow.add_edge(\"billing_specialist\", END)\n",
    "workflow.add_edge(\"technical_specialist\", END)\n",
    "\n",
    "workflow.set_entry_point(\"categorize_query\")\n",
    "\n",
    "compiled_workflow = workflow.compile()\n"
   ]
  },
  {
   "cell_type": "code",
   "execution_count": 22,
   "metadata": {},
   "outputs": [
    {
     "data": {
      "image/png": "[encoded data removed]",
      "text/plain": [
       "<IPython.core.display.Image object>"
      ]
     },
     "metadata": {},
     "output_type": "display_data"
    }
   ],
   "source": [
    "from IPython.display import Image, display\n",
    "from langchain_core.runnables.graph import CurveStyle, MermaidDrawMethod, NodeStyles\n",
    "\n",
    "display(\n",
    "    Image(\n",
    "        compiled_workflow.get_graph().draw_mermaid_png(\n",
    "            draw_method=MermaidDrawMethod.API,\n",
    "        )\n",
    "    )\n",
    ")"
   ]
  },
  {
   "cell_type": "code",
   "execution_count": 25,
   "metadata": {},
   "outputs": [
    {
     "name": "stdout",
     "output_type": "stream",
     "text": [
      "Routing based on category: general\n",
      "Entering general_support node\n",
      "Thank you for contacting general support. We have received your query: 'I have a question about your services.'. We will get back to you soon.\n"
     ]
    }
   ],
   "source": [
    "result = compiled_workflow.invoke({\"messages\": [\"I have a question about your services.\"]})"
   ]
  },
  {
   "cell_type": "code",
   "execution_count": 26,
   "metadata": {},
   "outputs": [
    {
     "name": "stdout",
     "output_type": "stream",
     "text": [
      "Routing based on category: billing\n",
      "Entering billing_support node\n",
      "Thank you for contacting billing support.  Regarding your billing inquiry: 'I need help with my invoice.'. Please provide your account number for faster assistance.\n"
     ]
    }
   ],
   "source": [
    "result = compiled_workflow.invoke({\"messages\":[ \"I need help with my invoice.\"]})\n"
   ]
  },
  {
   "cell_type": "code",
   "execution_count": 27,
   "metadata": {},
   "outputs": [
    {
     "name": "stdout",
     "output_type": "stream",
     "text": [
      "Routing based on category: technical\n",
      "Entering technical_support node\n",
      "Thank you for contacting technical support.  We understand you are having a technical issue: 'I am getting an error message when I try to log in.'. Can you please describe the steps to reproduce the issue?\n"
     ]
    }
   ],
   "source": [
    "result = compiled_workflow.invoke({\"messages\": [\"I am getting an error message when I try to log in.\"]})"
   ]
  }
 ],
 "metadata": {
  "kernelspec": {
   "display_name": "cursolanggraph-Ei5fG2sP-py3.10",
   "language": "python",
   "name": "python3"
  },
  "language_info": {
   "codemirror_mode": {
    "name": "ipython",
    "version": 3
   },
   "file_extension": ".py",
   "mimetype": "text/x-python",
   "name": "python",
   "nbconvert_exporter": "python",
   "pygments_lexer": "ipython3",
   "version": "3.10.12"
  }
 },
 "nbformat": 4,
 "nbformat_minor": 2
}
